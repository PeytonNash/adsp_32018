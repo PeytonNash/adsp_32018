{
 "cells": [
  {
   "cell_type": "markdown",
   "id": "4e251119",
   "metadata": {},
   "source": [
    "# ADSP 32018: Final Project\n",
    "## Synthetic Training Data Creation\n",
    "\n",
    "Peyton Nash"
   ]
  },
  {
   "cell_type": "markdown",
   "id": "8010e9aa",
   "metadata": {},
   "source": [
    "### Setup"
   ]
  },
  {
   "cell_type": "code",
   "execution_count": 5,
   "id": "17843f1f",
   "metadata": {},
   "outputs": [],
   "source": [
    "# Import libraries\n",
    "import re, math, gc, itertools, warnings, os, random\n",
    "from dotenv import load_dotenv\n",
    "\n",
    "import numpy as np\n",
    "import pandas as pd\n",
    "\n",
    "from collections import Counter\n",
    "import openai"
   ]
  },
  {
   "cell_type": "code",
   "execution_count": 37,
   "id": "0efbc810",
   "metadata": {},
   "outputs": [
    {
     "data": {
      "text/plain": [
       "True"
      ]
     },
     "execution_count": 37,
     "metadata": {},
     "output_type": "execute_result"
    }
   ],
   "source": [
    "load_dotenv()"
   ]
  },
  {
   "cell_type": "code",
   "execution_count": 8,
   "id": "8a4c5ad5",
   "metadata": {},
   "outputs": [],
   "source": [
    "# Load the data\n",
    "df = pd.read_parquet('output_data/df_industry.parquet').reset_index()"
   ]
  },
  {
   "cell_type": "markdown",
   "id": "2f994059",
   "metadata": {},
   "source": [
    "### Create Training Data"
   ]
  },
  {
   "cell_type": "code",
   "execution_count": 26,
   "id": "eb8e02e7",
   "metadata": {},
   "outputs": [
    {
     "name": "stdout",
     "output_type": "stream",
     "text": [
      "Number of documents to train: 1000\n",
      "\n",
      "Number of training documents by industry:\n",
      "\n",
      "Counter({None: 690, 'Arts, entertainment, and recreation': 60, 'Finance and insurance': 49, 'Software and data': 49, 'Health care and social assistance': 34, 'Government': 29, 'Professional, scientific, and technical services': 15, 'Transportation and warehousing': 14, 'Information (media, telecom, publishing)': 13, 'Retail trade': 12, 'Educational services': 11, 'Accommodation and food services': 6, 'Retail Trade': 5, 'Utilities': 4, 'Real estate and rental and leasing': 3, 'Wholesale trade': 3, 'Management of companies and enterprises': 2, 'Agriculture, forestry, fishing, and hunting': 1})\n"
     ]
    }
   ],
   "source": [
    "# Prepare text to be labeled\n",
    "random.seed(42)\n",
    "df_to_sample = df[df.industry != None].sample(1000)\n",
    "#to_label = [{'idx': idx, 'text': text, 'industry':industry} for idx, text, industry in zip(idx_to_label, df[['text_clean', 'industry']][idx_to_label])]\n",
    "to_label = [{'idx': idx, 'text': row['text_clean'], 'industry':row['industry']} for idx , row in df_to_sample.iterrows()]\n",
    "\n",
    "print(f'Number of documents to train: {len(to_label)}')\n",
    "print(f'\\nNumber of training documents by industry:\\n\\n{Counter([item[\"industry\"] for item in to_label])}')"
   ]
  },
  {
   "cell_type": "code",
   "execution_count": 59,
   "id": "b473a40f",
   "metadata": {},
   "outputs": [],
   "source": [
    "# Label data using GPT 3.5\n",
    "openai.api_key = os.environ['OPENAI_API_KEY']\n",
    "client = openai.OpenAI()\n",
    "gpt_model = 'gpt-3.5-turbo'\n",
    "\n",
    "# Create function to label articles\n",
    "def label_text(text: str):\n",
    "    prompt = (\n",
    "        f'''You are a sentiment annotator. Your task is to label a news article based on the overall sentiment it expresses toward the implementation of artificial intelligence. \n",
    "Focus only on the sentiment expressed about AI implementation.\n",
    "Do not label based on unrelated topics in the article.\n",
    "\n",
    "POSITIVE: The article suggests that AI adoption is likely to be successful\n",
    "NEGATIVE: The article suggests that AI adoption is unlikely to be successful\n",
    "NEUTRAL: The article has neither a strong positive or negative sentiment.\n",
    "\n",
    "Return only one of the following labels: POSITIVE, NEGATIVE, or NEUTRAL.\n",
    "\n",
    "Text to classify:\n",
    "'''\n",
    "        )\n",
    "   \n",
    "    response = client.chat.completions.create(\n",
    "        model=gpt_model,\n",
    "        messages=[\n",
    "            {\"role\":\"system\", \"content\":prompt},\n",
    "            {\"role\": \"user\", \"content\": text}],\n",
    "        temperature=1,\n",
    "        max_completion_tokens = 5\n",
    "    )\n",
    "\n",
    "    return response.choices[0].message.content"
   ]
  },
  {
   "cell_type": "code",
   "execution_count": null,
   "id": "e8c34429",
   "metadata": {},
   "outputs": [],
   "source": [
    "# Create counters\n",
    "n_pos = 0\n",
    "n_neg = 0\n",
    "n_net = 0\n",
    "n_format = 0\n",
    "n_label = 0\n",
    "\n",
    "# Create empty containers\n",
    "labels = {}\n",
    "misformat = []\n",
    "\n",
    "for i, obs in enumerate(to_label[803:]):\n",
    "    if i % 100 == 0:\n",
    "        print(f'{i} observations completed')\n",
    "\n",
    "    label = re.sub(r'[^A-Z]', '', label_text(obs['text']).upper().strip())\n",
    "\n",
    "    # Add to label dictionary if the output is formatted correctly\n",
    "    if re.search(r'POSITIVE|NEGATIVE|NEUTRAL', label):\n",
    "\n",
    "        labels[obs['idx']] = label\n",
    "        n_label += 1\n",
    "\n",
    "        # Add to class counters\n",
    "        if label == 'POSITIVE':\n",
    "            n_pos += 1\n",
    "        if label == 'NEGATIVE':\n",
    "            n_neg += 1\n",
    "        if label == 'NEUTRAL':\n",
    "            n_net += 1\n",
    "\n",
    "        # End if there are more than 150 observations in each class\n",
    "        if n_net > 150 & n_neg > 150 & n_net > 150:\n",
    "            break\n",
    "    \n",
    "    # Add id to list of mislabelled\n",
    "    else:\n",
    "        n_format = 0\n",
    "        misformat.append(obs['idx'])\n",
    "\n",
    "    # End if more than 10% of observations are not returning the correct format\n",
    "    if n_label > 20 and n_format/n_label > .1:\n",
    "        print('Too many misformats')\n",
    "        break"
   ]
  },
  {
   "cell_type": "code",
   "execution_count": null,
   "id": "91c6f2a6",
   "metadata": {},
   "outputs": [],
   "source": [
    "# Create labeled list\n",
    "labeled = [{**item, 'sentiment':labels.get(item['idx'], None)} for item in to_label]"
   ]
  },
  {
   "cell_type": "code",
   "execution_count": 93,
   "id": "1824bbb8",
   "metadata": {},
   "outputs": [],
   "source": [
    "pd.DataFrame(labeled).to_parquet('output_data/labeled.parquet')"
   ]
  }
 ],
 "metadata": {
  "kernelspec": {
   "display_name": ".venv",
   "language": "python",
   "name": "python3"
  },
  "language_info": {
   "codemirror_mode": {
    "name": "ipython",
    "version": 3
   },
   "file_extension": ".py",
   "mimetype": "text/x-python",
   "name": "python",
   "nbconvert_exporter": "python",
   "pygments_lexer": "ipython3",
   "version": "3.10.17"
  }
 },
 "nbformat": 4,
 "nbformat_minor": 5
}
