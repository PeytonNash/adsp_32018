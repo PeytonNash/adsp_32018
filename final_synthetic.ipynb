{
 "cells": [
  {
   "cell_type": "markdown",
   "id": "4e251119",
   "metadata": {},
   "source": [
    "# ADSP 32018: Final Project\n",
    "## Synthetic Training Data Creation\n",
    "\n",
    "Peyton Nash"
   ]
  },
  {
   "cell_type": "markdown",
   "id": "8010e9aa",
   "metadata": {},
   "source": [
    "### Setup"
   ]
  },
  {
   "cell_type": "code",
   "execution_count": 5,
   "id": "17843f1f",
   "metadata": {},
   "outputs": [],
   "source": [
    "# Import libraries\n",
    "import re, math, gc, itertools, warnings, os, random\n",
    "from dotenv import load_dotenv\n",
    "\n",
    "import numpy as np\n",
    "import pandas as pd\n",
    "\n",
    "from collections import Counter\n",
    "import openai"
   ]
  },
  {
   "cell_type": "code",
   "execution_count": 6,
   "id": "0efbc810",
   "metadata": {},
   "outputs": [
    {
     "data": {
      "text/plain": [
       "True"
      ]
     },
     "execution_count": 6,
     "metadata": {},
     "output_type": "execute_result"
    }
   ],
   "source": [
    "load_dotenv()"
   ]
  },
  {
   "cell_type": "code",
   "execution_count": null,
   "id": "8a4c5ad5",
   "metadata": {},
   "outputs": [],
   "source": [
    "# Load the data\n",
    "df = pd.read_parquet('output_data2/df_industry2.parquet').reset_index()"
   ]
  },
  {
   "cell_type": "markdown",
   "id": "2f994059",
   "metadata": {},
   "source": [
    "### Create Training Data"
   ]
  },
  {
   "cell_type": "code",
   "execution_count": 10,
   "id": "eb8e02e7",
   "metadata": {},
   "outputs": [
    {
     "name": "stdout",
     "output_type": "stream",
     "text": [
      "Number of documents to train: 2000\n",
      "\n",
      "Number of training documents by industry:\n",
      "\n",
      "Counter({None: 1434, 'Government': 108, 'Finance and insurance': 94, 'Arts, entertainment, and recreation': 84, 'Professional, scientific, and technical services': 53, 'Software and data': 50, 'Retail trade': 44, 'Health care and social assistance': 36, 'Educational services': 23, 'Transportation and warehousing': 23, 'Information (media, telecom, publishing)': 21, 'Accommodation and food services': 9, 'Utilities': 6, 'Management of companies and enterprises': 5, 'Agriculture, forestry, fishing, and hunting': 4, 'Wholesale trade': 3, 'Manufacturing': 3})\n"
     ]
    }
   ],
   "source": [
    "# Prepare text to be labeled\n",
    "random.seed(42)\n",
    "df_to_sample = df[df.industry != None].sample(2000)\n",
    "#to_label = [{'idx': idx, 'text': text, 'industry':industry} for idx, text, industry in zip(idx_to_label, df[['text_clean', 'industry']][idx_to_label])]\n",
    "to_label = [{'idx': idx, 'text': row['text_clean'], 'industry':row['industry']} for idx , row in df_to_sample.iterrows()]\n",
    "\n",
    "print(f'Number of documents to train: {len(to_label)}')\n",
    "print(f'\\nNumber of training documents by industry:\\n\\n{Counter([item[\"industry\"] for item in to_label])}')"
   ]
  },
  {
   "cell_type": "code",
   "execution_count": 11,
   "id": "b473a40f",
   "metadata": {},
   "outputs": [],
   "source": [
    "# Label data using GPT 3.5\n",
    "openai.api_key = os.environ['OPENAI_API_KEY']\n",
    "client = openai.OpenAI()\n",
    "gpt_model = 'gpt-3.5-turbo'\n",
    "\n",
    "# Create function to label articles\n",
    "def label_text(text: str):\n",
    "    prompt = (\n",
    "        f'''You are a sentiment annotator. Your task is to label a news article based on the overall sentiment it expresses toward the implementation of artificial intelligence. \n",
    "Focus only on the sentiment expressed about AI implementation.\n",
    "Do not label based on unrelated topics in the article.\n",
    "\n",
    "POSITIVE: The article suggests that AI adoption is likely to be successful\n",
    "NEGATIVE: The article suggests that AI adoption is unlikely to be successful\n",
    "NEUTRAL: The article has neither a strong positive or negative sentiment.\n",
    "\n",
    "Return only one of the following labels: POSITIVE, NEGATIVE, or NEUTRAL.\n",
    "\n",
    "Text to classify:\n",
    "'''\n",
    "        )\n",
    "   \n",
    "    response = client.chat.completions.create(\n",
    "        model=gpt_model,\n",
    "        messages=[\n",
    "            {\"role\":\"system\", \"content\":prompt},\n",
    "            {\"role\": \"user\", \"content\": text}],\n",
    "        temperature=1,\n",
    "        max_completion_tokens = 5\n",
    "    )\n",
    "\n",
    "    return response.choices[0].message.content"
   ]
  },
  {
   "cell_type": "code",
   "execution_count": null,
   "id": "e8c34429",
   "metadata": {},
   "outputs": [
    {
     "name": "stdout",
     "output_type": "stream",
     "text": [
      "0 observations completed\n",
      "638 ,  144 ,  408\n",
      "50 observations completed\n",
      "662 ,  152 ,  426\n",
      "100 observations completed\n",
      "685 ,  163 ,  442\n",
      "150 observations completed\n",
      "719 ,  170 ,  451\n",
      "200 observations completed\n",
      "750 ,  177 ,  463\n",
      "250 observations completed\n",
      "779 ,  183 ,  478\n",
      "300 observations completed\n",
      "805 ,  187 ,  498\n",
      "350 observations completed\n",
      "830 ,  193 ,  517\n",
      "400 observations completed\n",
      "856 ,  195 ,  538\n"
     ]
    }
   ],
   "source": [
    "# Create counters\n",
    "n_pos = 0\n",
    "n_neg = 0\n",
    "n_net = 0\n",
    "n_format = 0\n",
    "n_label = 0\n",
    "\n",
    "# Create empty containers\n",
    "labels = {}\n",
    "misformat = []\n",
    "\n",
    "for i, obs in enumerate(to_label):\n",
    "    if i % 50 == 0:\n",
    "        print(f'{i} observations completed')\n",
    "        print(n_pos, ', ', n_neg, ', ', n_net)\n",
    "\n",
    "    label = re.sub(r'[^A-Z]', '', label_text(obs['text']).upper().strip())\n",
    "\n",
    "    # Add to label dictionary if the output is formatted correctly\n",
    "    if re.search(r'POSITIVE|NEGATIVE|NEUTRAL', label):\n",
    "\n",
    "        labels[obs['idx']] = label\n",
    "        n_label += 1\n",
    "\n",
    "        # Add to class counters\n",
    "        if label == 'POSITIVE':\n",
    "            n_pos += 1\n",
    "        if label == 'NEGATIVE':\n",
    "            n_neg += 1\n",
    "        if label == 'NEUTRAL':\n",
    "            n_net += 1\n",
    "\n",
    "        # End if there are more than 150 observations in each class\n",
    "        if n_net > 200 and n_neg > 200 and n_net > 200:\n",
    "            print('Counts met')\n",
    "            break\n",
    "    \n",
    "    # Add id to list of mislabelled\n",
    "    else:\n",
    "        n_format += 1\n",
    "        misformat.append(obs['idx'])\n",
    "\n",
    "    # End if more than 10% of observations are not returning the correct format\n",
    "    if n_label > 20 and n_format/n_label > .1:\n",
    "        print('Too many misformats')\n",
    "        break"
   ]
  },
  {
   "cell_type": "code",
   "execution_count": 22,
   "id": "91c6f2a6",
   "metadata": {},
   "outputs": [],
   "source": [
    "# Create labeled list\n",
    "labeled = [{**item, 'sentiment':labels.get(item['idx'], None)} for item in to_label]"
   ]
  },
  {
   "cell_type": "code",
   "execution_count": 24,
   "id": "1824bbb8",
   "metadata": {},
   "outputs": [],
   "source": [
    "pd.DataFrame(labeled).to_parquet('output_data2/labeled2.parquet')"
   ]
  }
 ],
 "metadata": {
  "kernelspec": {
   "display_name": ".venv",
   "language": "python",
   "name": "python3"
  },
  "language_info": {
   "codemirror_mode": {
    "name": "ipython",
    "version": 3
   },
   "file_extension": ".py",
   "mimetype": "text/x-python",
   "name": "python",
   "nbconvert_exporter": "python",
   "pygments_lexer": "ipython3",
   "version": "3.10.17"
  }
 },
 "nbformat": 4,
 "nbformat_minor": 5
}
